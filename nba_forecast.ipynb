{
 "cells": [
  {
   "cell_type": "code",
   "execution_count": 1,
   "metadata": {},
   "outputs": [],
   "source": [
    "# import pandas as pd\n",
    "# from sklearn.model_selection import train_test_split\n",
    "# from sklearn.linear_model import LogisticRegression, LinearRegression\n",
    "# from sklearn.metrics import accuracy_score, mean_squared_error\n",
    "# from colorama import Fore, Style\n",
    "# from tabulate import tabulate\n",
    "# from prettytable import PrettyTable"
   ]
  },
  {
   "cell_type": "code",
   "execution_count": 1,
   "metadata": {},
   "outputs": [],
   "source": [
    "import pandas as pd\n",
    "from sklearn.model_selection import train_test_split\n",
    "from sklearn.linear_model import LogisticRegression\n",
    "from colorama import Fore, Style\n",
    "from prettytable import PrettyTable"
   ]
  },
  {
   "cell_type": "code",
   "execution_count": 2,
   "metadata": {},
   "outputs": [],
   "source": [
    "df_existing = pd.read_excel('NBA2324.xlsx')"
   ]
  },
  {
   "cell_type": "code",
   "execution_count": 3,
   "metadata": {},
   "outputs": [
    {
     "data": {
      "text/html": [
       "<div>\n",
       "<style scoped>\n",
       "    .dataframe tbody tr th:only-of-type {\n",
       "        vertical-align: middle;\n",
       "    }\n",
       "\n",
       "    .dataframe tbody tr th {\n",
       "        vertical-align: top;\n",
       "    }\n",
       "\n",
       "    .dataframe thead th {\n",
       "        text-align: right;\n",
       "    }\n",
       "</style>\n",
       "<table border=\"1\" class=\"dataframe\">\n",
       "  <thead>\n",
       "    <tr style=\"text-align: right;\">\n",
       "      <th></th>\n",
       "      <th>Away team</th>\n",
       "      <th>Away Pts</th>\n",
       "      <th>Home team</th>\n",
       "      <th>Home Pts</th>\n",
       "      <th>Overtime</th>\n",
       "      <th>Attend.</th>\n",
       "      <th>Arena</th>\n",
       "      <th>Win</th>\n",
       "      <th>Loss</th>\n",
       "    </tr>\n",
       "  </thead>\n",
       "  <tbody>\n",
       "    <tr>\n",
       "      <th>0</th>\n",
       "      <td>Los Angeles Lakers</td>\n",
       "      <td>107</td>\n",
       "      <td>Denver Nuggets</td>\n",
       "      <td>119</td>\n",
       "      <td>No</td>\n",
       "      <td>19842</td>\n",
       "      <td>Ball Arena</td>\n",
       "      <td>Denver Nuggets</td>\n",
       "      <td>Los Angeles Lakers</td>\n",
       "    </tr>\n",
       "    <tr>\n",
       "      <th>1</th>\n",
       "      <td>Phoenix Suns</td>\n",
       "      <td>108</td>\n",
       "      <td>Golden State Warriors</td>\n",
       "      <td>104</td>\n",
       "      <td>No</td>\n",
       "      <td>18064</td>\n",
       "      <td>Chase Center</td>\n",
       "      <td>Phoenix Suns</td>\n",
       "      <td>Golden State Warriors</td>\n",
       "    </tr>\n",
       "    <tr>\n",
       "      <th>2</th>\n",
       "      <td>Houston Rockets</td>\n",
       "      <td>86</td>\n",
       "      <td>Orlando Magic</td>\n",
       "      <td>116</td>\n",
       "      <td>No</td>\n",
       "      <td>18846</td>\n",
       "      <td>Amway Center</td>\n",
       "      <td>Orlando Magic</td>\n",
       "      <td>Houston Rockets</td>\n",
       "    </tr>\n",
       "    <tr>\n",
       "      <th>3</th>\n",
       "      <td>Boston Celtics</td>\n",
       "      <td>108</td>\n",
       "      <td>New York Knicks</td>\n",
       "      <td>104</td>\n",
       "      <td>No</td>\n",
       "      <td>19812</td>\n",
       "      <td>Madison Square Garden (IV)</td>\n",
       "      <td>Boston Celtics</td>\n",
       "      <td>New York Knicks</td>\n",
       "    </tr>\n",
       "    <tr>\n",
       "      <th>4</th>\n",
       "      <td>Washington Wizards</td>\n",
       "      <td>120</td>\n",
       "      <td>Indiana Pacers</td>\n",
       "      <td>143</td>\n",
       "      <td>No</td>\n",
       "      <td>16004</td>\n",
       "      <td>Gainbridge Fieldhouse</td>\n",
       "      <td>Indiana Pacers</td>\n",
       "      <td>Washington Wizards</td>\n",
       "    </tr>\n",
       "    <tr>\n",
       "      <th>...</th>\n",
       "      <td>...</td>\n",
       "      <td>...</td>\n",
       "      <td>...</td>\n",
       "      <td>...</td>\n",
       "      <td>...</td>\n",
       "      <td>...</td>\n",
       "      <td>...</td>\n",
       "      <td>...</td>\n",
       "      <td>...</td>\n",
       "    </tr>\n",
       "    <tr>\n",
       "      <th>637</th>\n",
       "      <td>Memphis Grizzlies</td>\n",
       "      <td>108</td>\n",
       "      <td>Toronto Raptors</td>\n",
       "      <td>100</td>\n",
       "      <td>No</td>\n",
       "      <td>17832</td>\n",
       "      <td>Scotiabank Arena</td>\n",
       "      <td>Memphis Grizzlies</td>\n",
       "      <td>Toronto Raptors</td>\n",
       "    </tr>\n",
       "    <tr>\n",
       "      <th>638</th>\n",
       "      <td>Charlotte Hornets</td>\n",
       "      <td>128</td>\n",
       "      <td>Minnesota Timberwolves</td>\n",
       "      <td>125</td>\n",
       "      <td>No</td>\n",
       "      <td>17832</td>\n",
       "      <td>Target Center</td>\n",
       "      <td>Charlotte Hornets</td>\n",
       "      <td>Minnesota Timberwolves</td>\n",
       "    </tr>\n",
       "    <tr>\n",
       "      <th>639</th>\n",
       "      <td>Boston Celtics</td>\n",
       "      <td>119</td>\n",
       "      <td>Dallas Mavericks</td>\n",
       "      <td>110</td>\n",
       "      <td>No</td>\n",
       "      <td>17832</td>\n",
       "      <td>American Airlines Center</td>\n",
       "      <td>Boston Celtics</td>\n",
       "      <td>Dallas Mavericks</td>\n",
       "    </tr>\n",
       "    <tr>\n",
       "      <th>640</th>\n",
       "      <td>Chicago Bulls</td>\n",
       "      <td>113</td>\n",
       "      <td>Phoenix Suns</td>\n",
       "      <td>115</td>\n",
       "      <td>No</td>\n",
       "      <td>17832</td>\n",
       "      <td>Footprint Center</td>\n",
       "      <td>Phoenix Suns</td>\n",
       "      <td>Chicago Bulls</td>\n",
       "    </tr>\n",
       "    <tr>\n",
       "      <th>641</th>\n",
       "      <td>Atlanta Hawks</td>\n",
       "      <td>107</td>\n",
       "      <td>Sacramento Kings</td>\n",
       "      <td>122</td>\n",
       "      <td>No</td>\n",
       "      <td>17832</td>\n",
       "      <td>Golden 1 Center</td>\n",
       "      <td>Sacramento Kings</td>\n",
       "      <td>Atlanta Hawks</td>\n",
       "    </tr>\n",
       "  </tbody>\n",
       "</table>\n",
       "<p>642 rows × 9 columns</p>\n",
       "</div>"
      ],
      "text/plain": [
       "              Away team  Away Pts               Home team  Home Pts Overtime  \\\n",
       "0    Los Angeles Lakers       107          Denver Nuggets       119       No   \n",
       "1          Phoenix Suns       108   Golden State Warriors       104       No   \n",
       "2       Houston Rockets        86           Orlando Magic       116       No   \n",
       "3        Boston Celtics       108         New York Knicks       104       No   \n",
       "4    Washington Wizards       120          Indiana Pacers       143       No   \n",
       "..                  ...       ...                     ...       ...      ...   \n",
       "637   Memphis Grizzlies       108         Toronto Raptors       100       No   \n",
       "638   Charlotte Hornets       128  Minnesota Timberwolves       125       No   \n",
       "639      Boston Celtics       119        Dallas Mavericks       110       No   \n",
       "640       Chicago Bulls       113            Phoenix Suns       115       No   \n",
       "641       Atlanta Hawks       107        Sacramento Kings       122       No   \n",
       "\n",
       "     Attend.                       Arena                Win  \\\n",
       "0      19842                  Ball Arena     Denver Nuggets   \n",
       "1      18064                Chase Center       Phoenix Suns   \n",
       "2      18846                Amway Center      Orlando Magic   \n",
       "3      19812  Madison Square Garden (IV)     Boston Celtics   \n",
       "4      16004       Gainbridge Fieldhouse     Indiana Pacers   \n",
       "..       ...                         ...                ...   \n",
       "637    17832            Scotiabank Arena  Memphis Grizzlies   \n",
       "638    17832               Target Center  Charlotte Hornets   \n",
       "639    17832    American Airlines Center     Boston Celtics   \n",
       "640    17832            Footprint Center       Phoenix Suns   \n",
       "641    17832             Golden 1 Center   Sacramento Kings   \n",
       "\n",
       "                       Loss  \n",
       "0        Los Angeles Lakers  \n",
       "1     Golden State Warriors  \n",
       "2           Houston Rockets  \n",
       "3           New York Knicks  \n",
       "4        Washington Wizards  \n",
       "..                      ...  \n",
       "637         Toronto Raptors  \n",
       "638  Minnesota Timberwolves  \n",
       "639        Dallas Mavericks  \n",
       "640           Chicago Bulls  \n",
       "641           Atlanta Hawks  \n",
       "\n",
       "[642 rows x 9 columns]"
      ]
     },
     "execution_count": 3,
     "metadata": {},
     "output_type": "execute_result"
    }
   ],
   "source": [
    "df_existing"
   ]
  },
  {
   "cell_type": "code",
   "execution_count": 4,
   "metadata": {},
   "outputs": [],
   "source": [
    "#checking if the 'Win' column exists before proceeding\n",
    "winning_team = 'Win'  # Update with the actual column name\n",
    "if winning_team in df_existing.columns:\n",
    "    #creating a binary target variable indicating whether the home team wins\n",
    "    df_existing['HomeWin'] = (df_existing['Home team'] == df_existing[winning_team]).astype(int)\n",
    "\n",
    "    #specifying the categorical columns for one-hot encoding\n",
    "    categorical_columns = ['Away team', 'Home team', 'Overtime', 'Arena']\n",
    "\n",
    "    #checking if categorical columns exist in the DataFrame\n",
    "    missing_columns = [col for col in categorical_columns if col not in df_existing.columns]\n",
    "\n",
    "    if not missing_columns:\n",
    "        #extracting the necessary columns for the model\n",
    "        X_completed = df_existing[categorical_columns]\n",
    "        y_completed = df_existing['HomeWin']\n",
    "\n",
    "        #one-hot encode categorical columns\n",
    "        X_completed_encoded = pd.get_dummies(X_completed, drop_first=True)\n",
    "\n",
    "        #splitting the completed data into training and testing sets\n",
    "        X_train_completed, _, y_train_completed, _ = train_test_split(\n",
    "            X_completed_encoded, y_completed, test_size=0.2, random_state=42\n",
    "        )\n",
    "\n",
    "        #choosing a model for completed games (Logistic Regression in this example)\n",
    "        model_completed = LogisticRegression()\n",
    "\n",
    "        #training the model on the completed data\n",
    "        model_completed.fit(X_train_completed, y_train_completed)\n",
    "    else:\n",
    "        print(f\"Error: Columns {missing_columns} not found in DataFrame.\")\n",
    "else:\n",
    "    print(f\"Error: Column '{winning_team}' not found in DataFrame.\")"
   ]
  },
  {
   "cell_type": "code",
   "execution_count": 5,
   "metadata": {},
   "outputs": [],
   "source": [
    "#upcoming game data\n",
    "upcoming_game_data = {\n",
    "    'Away team': ['Denver Nuggets', 'New York Knicks', 'Utah Jazz', 'Portland Trail Blazers', 'Los Angeles Lakers'],\n",
    "    'Home team': ['Indiana Pacers', 'Brooklyn Nets', 'New Orleans Pelicans', 'Oklahoma City Thunder', 'Los Angeles Clippers'],\n",
    "    'Overtime': [0, 0, 0, 0, 0],  #placeholder for upcoming games\n",
    "    'Arena': ['Arena1', 'Arena2', 'Arena3', 'Arena4', 'Arena5'],\n",
    "}"
   ]
  },
  {
   "cell_type": "code",
   "execution_count": 6,
   "metadata": {},
   "outputs": [],
   "source": [
    "#creating a DataFrame for the upcoming game\n",
    "df_upcoming_game = pd.DataFrame(upcoming_game_data)"
   ]
  },
  {
   "cell_type": "code",
   "execution_count": 7,
   "metadata": {},
   "outputs": [],
   "source": [
    "#ensuring the columns in df_upcoming_game_encoded match the columns used during training\n",
    "df_upcoming_game_encoded = pd.get_dummies(df_upcoming_game)\n",
    "missing_columns = set(X_train_completed.columns) - set(df_upcoming_game_encoded.columns)\n",
    "for column in missing_columns:\n",
    "    df_upcoming_game_encoded[column] = 0"
   ]
  },
  {
   "cell_type": "code",
   "execution_count": 8,
   "metadata": {},
   "outputs": [],
   "source": [
    "#reordering columns to match the order during training\n",
    "df_upcoming_game_encoded = df_upcoming_game_encoded[X_train_completed.columns]\n",
    "\n",
    "#making predictions using the trained model for binary outcome\n",
    "predicted_probabilities = model_completed.predict_proba(df_upcoming_game_encoded)"
   ]
  },
  {
   "cell_type": "code",
   "execution_count": 9,
   "metadata": {},
   "outputs": [],
   "source": [
    "prediction_date = 'Tuesday 23 Jan 2024'"
   ]
  },
  {
   "cell_type": "code",
   "execution_count": 10,
   "metadata": {},
   "outputs": [],
   "source": [
    "#ANSI escape codes for blue color\n",
    "blue_color = '\\033[94m'\n",
    "reset_color = '\\033[0m'\n",
    "\n",
    "#data for PrettyTable\n",
    "table_new = PrettyTable()\n",
    "table_new.field_names = [f\"{blue_color}NBA, {prediction_date}{reset_color}\", f\"{blue_color}Projected Winners{reset_color}\"]\n",
    "table_new.align[\"Projected Winners\"] = \"l\"\n",
    "table_new.horizontal_char = '-'  # Use a horizontal line as a separator\n",
    "\n",
    "#defining color codes for text\n",
    "green_color = '\\033[92m'\n",
    "reset_color = '\\033[0m'"
   ]
  },
  {
   "cell_type": "code",
   "execution_count": 11,
   "metadata": {},
   "outputs": [],
   "source": [
    "for i, team in enumerate(df_upcoming_game.itertuples(), start=1):  #starting from index 1 to skip the header row\n",
    "    team1_probability = predicted_probabilities[i-1][1] * 100\n",
    "    team2_probability = 100 - team1_probability\n",
    "\n",
    "    #determining the team with the higher win probability as the projected winner\n",
    "    if team1_probability > 50:\n",
    "        predicted_winner = team[1]\n",
    "        projected_win_percentage = team1_probability\n",
    "    else:\n",
    "        predicted_winner = team[2]\n",
    "        projected_win_percentage = team2_probability\n",
    "\n",
    "    team1_info = f\"{green_color}{team[1]} ({df_existing['Win'].eq(team[1]).sum()}-{df_existing['Loss'].eq(team[1]).sum()}){reset_color}\"\n",
    "    team2_info = f\"{green_color}{team[2]} ({df_existing['Win'].eq(team[2]).sum()}-{df_existing['Loss'].eq(team[2]).sum()}){reset_color}\"\n",
    "\n",
    "    team_info = f\"{team1_info} vs {team2_info}\"\n",
    "\n",
    "    table_new.add_row([team_info, green_color + f\"{predicted_winner} ({projected_win_percentage:.2f}%) {reset_color}\"])"
   ]
  },
  {
   "cell_type": "code",
   "execution_count": 12,
   "metadata": {},
   "outputs": [
    {
     "name": "stdout",
     "output_type": "stream",
     "text": [
      "+-----------------------------------------------------------------+----------------------------------+\n",
      "|                     \u001b[94mNBA, Tuesday 23 Jan 2024\u001b[0m                    |        \u001b[94mProjected Winners\u001b[0m         |\n",
      "+-----------------------------------------------------------------+----------------------------------+\n",
      "|         \u001b[92mDenver Nuggets (30-14)\u001b[0m vs \u001b[92mIndiana Pacers (24-20)\u001b[0m        |     \u001b[92mIndiana Pacers (53.91%) \u001b[0m     |\n",
      "|         \u001b[92mNew York Knicks (26-17)\u001b[0m vs \u001b[92mBrooklyn Nets (17-25)\u001b[0m        |    \u001b[92mNew York Knicks (50.11%) \u001b[0m     |\n",
      "|        \u001b[92mUtah Jazz (22-22)\u001b[0m vs \u001b[92mNew Orleans Pelicans (25-18)\u001b[0m        |       \u001b[92mUtah Jazz (73.15%) \u001b[0m        |\n",
      "| \u001b[92mPortland Trail Blazers (12-30)\u001b[0m vs \u001b[92mOklahoma City Thunder (29-13)\u001b[0m | \u001b[92mPortland Trail Blazers (83.16%) \u001b[0m |\n",
      "|    \u001b[92mLos Angeles Lakers (23-22)\u001b[0m vs \u001b[92mLos Angeles Clippers (27-14)\u001b[0m   |   \u001b[92mLos Angeles Lakers (82.05%) \u001b[0m   |\n",
      "+-----------------------------------------------------------------+----------------------------------+\n"
     ]
    }
   ],
   "source": [
    "print(table_new)"
   ]
  },
  {
   "cell_type": "code",
   "execution_count": 1,
   "metadata": {},
   "outputs": [
    {
     "name": "stdout",
     "output_type": "stream",
     "text": [
      "test\n"
     ]
    }
   ],
   "source": [
    "print('test')"
   ]
  },
  {
   "cell_type": "code",
   "execution_count": 2,
   "metadata": {},
   "outputs": [
    {
     "name": "stdout",
     "output_type": "stream",
     "text": [
      "test1\n"
     ]
    }
   ],
   "source": [
    "print('test1')"
   ]
  },
  {
   "cell_type": "code",
   "execution_count": null,
   "metadata": {},
   "outputs": [],
   "source": []
  }
 ],
 "metadata": {
  "kernelspec": {
   "display_name": "Python 3 (ipykernel)",
   "language": "python",
   "name": "python3"
  },
  "language_info": {
   "codemirror_mode": {
    "name": "ipython",
    "version": 3
   },
   "file_extension": ".py",
   "mimetype": "text/x-python",
   "name": "python",
   "nbconvert_exporter": "python",
   "pygments_lexer": "ipython3",
   "version": "3.11.0"
  }
 },
 "nbformat": 4,
 "nbformat_minor": 2
}
